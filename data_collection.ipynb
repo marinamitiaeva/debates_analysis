{
 "cells": [
  {
   "cell_type": "code",
   "execution_count": 1,
   "metadata": {},
   "outputs": [],
   "source": [
    "import requests\n",
    "from bs4 import BeautifulSoup\n",
    "import pandas as pd\n",
    "import csv\n",
    "import re"
   ]
  },
  {
   "cell_type": "code",
   "execution_count": 2,
   "metadata": {},
   "outputs": [],
   "source": [
    "def scrape_transcript_to_csv(url, csv_file_path, debate_number):\n",
    "    headers = {'User-Agent': 'Mozilla/5.0'}\n",
    "    response = requests.get(url, headers=headers)\n",
    "\n",
    "    if response.status_code == 200:\n",
    "        soup = BeautifulSoup(response.text, 'html.parser')\n",
    "        paragraphs = soup.find_all('p')\n",
    "\n",
    "        speaker_names, times, texts, debates = [], [], [], []\n",
    "        current_speaker, current_time = None, None\n",
    "\n",
    "        for paragraph in paragraphs:\n",
    "            match = re.match(r'^(.*?):\\s*\\((.*?)\\)\\s*(.*)', paragraph.text)\n",
    "            if match:\n",
    "                current_speaker, current_time, text = match.groups()\n",
    "                speaker_names.append(current_speaker.strip())\n",
    "                times.append(current_time.strip())\n",
    "                texts.append(text.strip())\n",
    "                debates.append(debate_number)  # Add the debate number\n",
    "            else:\n",
    "                if current_speaker and texts:\n",
    "                    texts[-1] += ' ' + paragraph.text.strip()\n",
    "\n",
    "        if not speaker_names or not times or not texts:\n",
    "            print(\"Failed to extract data correctly.\")\n",
    "            return\n",
    "\n",
    "        data = list(zip(speaker_names, times, texts, debates))\n",
    "\n",
    "        write_mode = 'w' if debate_number == 1 else 'a'\n",
    "        with open(csv_file_path, write_mode, newline='', encoding='utf-8') as csvfile:\n",
    "            csv_writer = csv.writer(csvfile)\n",
    "            if debate_number == 1:\n",
    "                csv_writer.writerow(['speaker', 'time', 'text', 'debate'])\n",
    "            csv_writer.writerows(data)\n",
    "\n",
    "        print(f\"Data from {url} appended to CSV file: {csv_file_path}\")\n",
    "    else:\n",
    "        print(f\"Failed to retrieve the page. Status code: {response.status_code}\")"
   ]
  },
  {
   "cell_type": "code",
   "execution_count": 3,
   "metadata": {},
   "outputs": [],
   "source": [
    "def scrape_transcript_to_dataframe(url, debate_number, csv_file_path):\n",
    "    headers = {'User-Agent': 'Mozilla/5.0'}\n",
    "    response = requests.get(url, headers=headers)\n",
    "    \n",
    "    if response.status_code == 200:\n",
    "        soup = BeautifulSoup(response.text, 'html.parser')\n",
    "        paragraphs = soup.find_all('p')\n",
    "        \n",
    "        data = {'speaker': [], 'time': [], 'text': [], 'debate': []}\n",
    "        current_speaker, current_time = None, None\n",
    "        \n",
    "        for paragraph in paragraphs:\n",
    "            match = re.match(r'^(.*?):\\s*\\((.*?)\\)\\s*(.*)', paragraph.text)\n",
    "            if match:\n",
    "                current_speaker, current_time, text = match.groups()\n",
    "                data['speaker'].append(current_speaker.strip())\n",
    "                data['time'].append(current_time.strip())\n",
    "                data['text'].append(text.strip())\n",
    "                data['debate'].append(debate_number)\n",
    "            else:\n",
    "                if current_speaker and data['text']:\n",
    "                    data['text'][-1] += ' ' + paragraph.text.strip()\n",
    "        \n",
    "        if not data['speaker'] or not data['time'] or not data['text']:\n",
    "            print(\"Failed to extract data correctly.\")\n",
    "            return\n",
    "        \n",
    "        df = pd.DataFrame(data)\n",
    "        mode = 'w' if debate_number == 1 else 'a'\n",
    "        header = True if debate_number == 1 else False\n",
    "        df.to_csv(csv_file_path, mode=mode, index=False, header=header, encoding='utf-8')\n",
    "        print(f\"Data from {url} appended to CSV file: {csv_file_path}\")\n",
    "    else:\n",
    "        print(f\"Failed to retrieve the page. Status code: {response.status_code}\")"
   ]
  },
  {
   "cell_type": "code",
   "execution_count": 4,
   "metadata": {},
   "outputs": [
    {
     "name": "stdout",
     "output_type": "stream",
     "text": [
      "Data from https://www.rev.com/blog/transcripts/donald-trump-joe-biden-1st-presidential-debate-transcript-2020 appended to CSV file: debate_transcripts.csv\n",
      "Data from https://www.rev.com/blog/transcripts/donald-trump-joe-biden-final-presidential-debate-transcript-2020 appended to CSV file: debate_transcripts.csv\n"
     ]
    }
   ],
   "source": [
    "csv_file_path = 'debate_transcripts.csv'\n",
    "urls = [\n",
    "    \"https://www.rev.com/blog/transcripts/donald-trump-joe-biden-1st-presidential-debate-transcript-2020\",\n",
    "    \"https://www.rev.com/blog/transcripts/donald-trump-joe-biden-final-presidential-debate-transcript-2020\",\n",
    "]\n",
    "\n",
    "for i, url in enumerate(urls, start=1):\n",
    "    scrape_transcript_to_dataframe(url, i, csv_file_path)"
   ]
  },
  {
   "cell_type": "code",
   "execution_count": 5,
   "metadata": {},
   "outputs": [
    {
     "data": {
      "text/plain": [
       "speaker\n",
       "President Donald J. Trump    314\n",
       "Vice President Joe Biden     250\n",
       "Chris Wallace                225\n",
       "Donald Trump                 193\n",
       "Kristen Welker               188\n",
       "Joe Biden                    131\n",
       "Name: count, dtype: int64"
      ]
     },
     "execution_count": 5,
     "metadata": {},
     "output_type": "execute_result"
    }
   ],
   "source": [
    "df = pd.read_csv(csv_file_path)\n",
    "df['speaker'].value_counts()"
   ]
  },
  {
   "cell_type": "code",
   "execution_count": 6,
   "metadata": {},
   "outputs": [
    {
     "data": {
      "text/plain": [
       "speaker\n",
       "Donald Trump    507\n",
       "Moderator       413\n",
       "Joe Biden       381\n",
       "Name: count, dtype: int64"
      ]
     },
     "execution_count": 6,
     "metadata": {},
     "output_type": "execute_result"
    }
   ],
   "source": [
    "replacement = {'President Donald J. Trump': 'Donald Trump', 'Vice President Joe Biden': 'Joe Biden', 'Chris Wallace': 'Moderator', 'Kristen Welker': 'Moderator'}\n",
    "df['speaker'] = df['speaker'].map(lambda x: replacement.get(x, x)) # replace only those who are in the dictionary\n",
    "df['speaker'].value_counts()"
   ]
  },
  {
   "cell_type": "code",
   "execution_count": 7,
   "metadata": {},
   "outputs": [],
   "source": [
    "# df_filtered = df[df['speaker'] != \"Moderator\"].reset_index(drop=True)"
   ]
  },
  {
   "cell_type": "code",
   "execution_count": 8,
   "metadata": {},
   "outputs": [],
   "source": [
    "def time_format(t):\n",
    "    if len(t) == 5:  # This means the string is in the format 'MM:SS'\n",
    "        t = '00:' + t  # Prepend '00:' to represent the hour\n",
    "    return t\n",
    "\n",
    "df['time'] = df['time'].apply(time_format)\n",
    "df['time'] = pd.to_datetime(df['time'], format='%H:%M:%S').dt.time"
   ]
  },
  {
   "cell_type": "code",
   "execution_count": 9,
   "metadata": {},
   "outputs": [],
   "source": [
    "df.to_csv(csv_file_path)"
   ]
  }
 ],
 "metadata": {
  "kernelspec": {
   "display_name": "Python 3",
   "language": "python",
   "name": "python3"
  },
  "language_info": {
   "codemirror_mode": {
    "name": "ipython",
    "version": 3
   },
   "file_extension": ".py",
   "mimetype": "text/x-python",
   "name": "python",
   "nbconvert_exporter": "python",
   "pygments_lexer": "ipython3",
   "version": "3.10.13"
  }
 },
 "nbformat": 4,
 "nbformat_minor": 2
}
